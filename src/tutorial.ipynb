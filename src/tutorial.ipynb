{
 "cells": [
  {
   "cell_type": "code",
   "execution_count": 5,
   "metadata": {},
   "outputs": [],
   "source": [
    "import scipy.sparse\n",
    "import numpy as np\n",
    "import miniQM as mqm"
   ]
  },
  {
   "cell_type": "markdown",
   "metadata": {},
   "source": [
    "# Tutorial for miniQM"
   ]
  },
  {
   "cell_type": "markdown",
   "metadata": {},
   "source": [
    "miniQM is a library for the evaluation of the ground state and the propagation of simple model systems in second quantization.\\\n",
    "It starts by defining first a Hilbert space (a set of basis elements and rules to operate on them) and then uses the rules to transform a list of operators into matrices (generally in compressed sparse row form)."
   ]
  },
  {
   "cell_type": "markdown",
   "metadata": {},
   "source": [
    "## Defining a Hilbert space \n",
    "\n",
    "To define a basic Hilbert space in miniQM one has to first choose if it is fermionic or bosonic space. Let us say we are working with fermions. For example we consider 2 spinless fermions on 5 sites. Here the notion of \"site\" can represent any notion of spin-orbital that can be empty or occupied in the Slater determinant or simply actual Hubbard sites. The definition of the Hilbert space (hs) looks like:"
   ]
  },
  {
   "cell_type": "code",
   "execution_count": 6,
   "metadata": {},
   "outputs": [],
   "source": [
    "nsites = 5\n",
    "npart = 2\n",
    "hs = mqm.BasicFermions.firstdet(npart, nsites)"
   ]
  },
  {
   "cell_type": "markdown",
   "metadata": {},
   "source": [
    "Why is invoking the firstdet method ? Well, in miniQM there is no difference between an element (here a slater determinant) of a Hilbert space and the Hilbert space itself. This is due to the fact that each element of a Hilbert space comes with the set of rules that applies to it. We generally define a fermionic Hilbert space by its first determinant + the rules. And indeed if we print it..."
   ]
  },
  {
   "cell_type": "code",
   "execution_count": 7,
   "metadata": {},
   "outputs": [
    {
     "name": "stdout",
     "output_type": "stream",
     "text": [
      "[1, 1, 0, 0, 0]\n"
     ]
    }
   ],
   "source": [
    "print(hs)"
   ]
  },
  {
   "cell_type": "markdown",
   "metadata": {},
   "source": [
    "We obtain the array of 0 and 1s representing the occupation of each site of the first determinant $\\vert 1 1 0 0 \\rangle$ (order arbitrarily decided when implementing miniQM). It is also possible to define the Hilbert space using any other determinant. "
   ]
  },
  {
   "cell_type": "code",
   "execution_count": 20,
   "metadata": {},
   "outputs": [
    {
     "name": "stdout",
     "output_type": "stream",
     "text": [
      "[0, 0, 1, 1, 0]\n"
     ]
    }
   ],
   "source": [
    "hs = mqm.BasicFermions([0, 0, 1, 1, 0])\n",
    "print(hs)"
   ]
  },
  {
   "cell_type": "markdown",
   "metadata": {},
   "source": [
    "The class BasicFermions possesses its own range method, which can be useful to see the list of basis elements in the Hilbert space and how they are ordered. Here for example:"
   ]
  },
  {
   "cell_type": "code",
   "execution_count": 21,
   "metadata": {},
   "outputs": [
    {
     "name": "stdout",
     "output_type": "stream",
     "text": [
      "[1, 1, 0, 0, 0]\n",
      "[1, 0, 1, 0, 0]\n",
      "[1, 0, 0, 1, 0]\n",
      "[1, 0, 0, 0, 1]\n",
      "[0, 1, 1, 0, 0]\n",
      "[0, 1, 0, 1, 0]\n",
      "[0, 1, 0, 0, 1]\n",
      "[0, 0, 1, 1, 0]\n",
      "[0, 0, 1, 0, 1]\n",
      "[0, 0, 0, 1, 1]\n"
     ]
    }
   ],
   "source": [
    "for elem in hs.range():\n",
    "    print(elem)"
   ]
  },
  {
   "cell_type": "markdown",
   "metadata": {},
   "source": [
    "One can access the index of a given determinant using the index attribute. We will copy the determinant we use for hs and look at his index "
   ]
  },
  {
   "cell_type": "code",
   "execution_count": 22,
   "metadata": {},
   "outputs": [
    {
     "name": "stdout",
     "output_type": "stream",
     "text": [
      "index: 7 element: [0, 0, 1, 1, 0]\n"
     ]
    }
   ],
   "source": [
    "elem1 = hs.copy()\n",
    "print(\"index:\", elem1.index, \"element:\", elem1)"
   ]
  },
  {
   "cell_type": "markdown",
   "metadata": {},
   "source": [
    "We can verify this is indeed the 7th element (starting at 0) of the previous list.\\\n",
    "In this list one can that notice that the number of particles is conserved. This is the default behavior of BasicFermions. It is possible to define a larger Hilbert space where the number of particles is not conserved. In this case the number of particles can be set to any value as it irrelevant and firstdet is always [0, 0, .., 0]. We will show it on a system with only 4 sites as the Hilbert space got bigger."
   ]
  },
  {
   "cell_type": "code",
   "execution_count": 23,
   "metadata": {},
   "outputs": [
    {
     "name": "stdout",
     "output_type": "stream",
     "text": [
      "0 : [0, 0, 0, 0]\n",
      "1 : [1, 0, 0, 0]\n",
      "2 : [0, 1, 0, 0]\n",
      "3 : [1, 1, 0, 0]\n",
      "4 : [0, 0, 1, 0]\n",
      "5 : [1, 0, 1, 0]\n",
      "6 : [0, 1, 1, 0]\n",
      "7 : [1, 1, 1, 0]\n",
      "8 : [0, 0, 0, 1]\n",
      "9 : [1, 0, 0, 1]\n",
      "10 : [0, 1, 0, 1]\n",
      "11 : [1, 1, 0, 1]\n",
      "12 : [0, 0, 1, 1]\n",
      "13 : [1, 0, 1, 1]\n",
      "14 : [0, 1, 1, 1]\n",
      "15 : [1, 1, 1, 1]\n"
     ]
    }
   ],
   "source": [
    "hs = mqm.BasicFermions.firstdet(npart, 3, nconserved=False)\n",
    "# or as explained previously\n",
    "hs = mqm.BasicFermions([0, 1, 0, 1], nconserved=False)\n",
    "\n",
    "for elem in hs.range():\n",
    "    print(elem.index, \":\", elem)\n"
   ]
  },
  {
   "cell_type": "markdown",
   "metadata": {},
   "source": [
    "## Product of Hilbert spaces\n",
    "\n",
    "In miniQM it is possible to define a product of Hilbert spaces. For example if we consider a Hubbard dimer with two particles of different spin on two sites. It can be represented as the product of one fermionic Hilbert space for spin up with the same for spin down."
   ]
  },
  {
   "cell_type": "code",
   "execution_count": 24,
   "metadata": {},
   "outputs": [
    {
     "name": "stdout",
     "output_type": "stream",
     "text": [
      "0 : [[1, 0], [1, 0]]\n",
      "1 : [[1, 0], [0, 1]]\n",
      "2 : [[0, 1], [1, 0]]\n",
      "3 : [[0, 1], [0, 1]]\n"
     ]
    }
   ],
   "source": [
    "hs_up = mqm.BasicFermions.firstdet(1,2)\n",
    "hs_down = mqm.BasicFermions.firstdet(1,2)\n",
    "hs = hs_up*hs_down\n",
    "for elem in hs.range():\n",
    "    print(elem.index, \":\", elem)"
   ]
  },
  {
   "cell_type": "markdown",
   "metadata": {},
   "source": [
    "which, if we say the first Hilbert space of the product represents spin up, is to be interpreted as \\\n",
    "0 : $\\vert \\uparrow \\downarrow, 0 \\rangle = \\vert 1, 0 \\rangle_\\uparrow \\vert 1, 0 \\rangle_\\downarrow$ \\\n",
    "1 : $\\vert \\uparrow , \\downarrow \\rangle = \\vert 1, 0 \\rangle_\\uparrow \\vert 0, 1 \\rangle_\\downarrow$ \\\n",
    "2 : $\\vert  \\downarrow, \\uparrow \\rangle = \\vert 0, 1 \\rangle_\\uparrow \\vert 1, 0 \\rangle_\\downarrow$ \\\n",
    "3 : $\\vert 0, \\uparrow \\downarrow \\rangle = \\vert 0, 1 \\rangle_\\uparrow \\vert 0, 1 \\rangle_\\downarrow$\n",
    "\n",
    "Let us continue to work with a Hubbard dimer for the next part."
   ]
  },
  {
   "cell_type": "markdown",
   "metadata": {},
   "source": [
    "## Operators\n",
    "\n",
    "In miniQM it is possible to define creation/annihilation operators and make them act on an element. An creation/annihilation operator is a simple list of the for [ispace, isite, +-1] where ispace is the index of the Hilbert space we act on, isite the index of the site, and we use +1 for creation and -1 for annihilation operator. For example in the Hubbard dimer we have and Hilbert space 0 (spin up) with site 0 and site 1 and Hilbert space 1 (spin down) with site 0 and site 1. The creation operator $a^{\\dagger}_{0\\downarrow}$ is therefore [1, 0, +1] and $a_{0\\uparrow}$ is [0, 0, -1], etc.. Let us see how we act on an element"
   ]
  },
  {
   "cell_type": "code",
   "execution_count": 25,
   "metadata": {},
   "outputs": [
    {
     "name": "stdout",
     "output_type": "stream",
     "text": [
      "The element is the first one of the Hilbert space [[1, 0], [1, 0]]\n",
      "[[0, 0], [1, 0]] -1\n"
     ]
    }
   ],
   "source": [
    "elem = hs.copy()\n",
    "print(\"The element is the first one of the Hilbert space\", elem)\n",
    "op = [0, 0, -1]\n",
    "result = elem.operator(op)\n",
    "print(result[0], result[1])\n",
    "elem_res = result[0]"
   ]
  },
  {
   "cell_type": "markdown",
   "metadata": {},
   "source": [
    "We did the following  \n",
    "$$ a_{0\\uparrow} \\vert 1, 0 \\rangle_\\uparrow \\vert 1, 0 \\rangle_\\downarrow = \\alpha \\vert 0, 0 \\rangle_\\uparrow \\vert 1, 0 \\rangle_\\downarrow $$\n",
    "and the method operator returns the couple $ (\\vert 0, 0 \\rangle_\\uparrow \\vert 1, 0 \\rangle_\\downarrow,~ \\alpha) $ with $\\alpha = -1$ because of the ordering of operators. Because our operation did not preserve the number of particles, the element returned is outside of our previously defined Hilbert space:"
   ]
  },
  {
   "cell_type": "code",
   "execution_count": 26,
   "metadata": {},
   "outputs": [
    {
     "name": "stdout",
     "output_type": "stream",
     "text": [
      "0 : [[0, 0], [1, 0]]\n",
      "1 : [[0, 0], [0, 1]]\n"
     ]
    }
   ],
   "source": [
    "for elem in elem_res.range():\n",
    "    print(elem.index, \":\", elem)"
   ]
  },
  {
   "cell_type": "markdown",
   "metadata": {},
   "source": [
    "Generally we will never us the operator method. For example, if we want to implement a hoping term $\\hat{T}$ in our Hubbard dimer, the operator for the spin up looks like\n",
    "$$ \\hat{T}_{\\uparrow}=-ta_{1\\uparrow}^{\\dagger}a_{0\\uparrow}-ta_{0\\uparrow}^{\\dagger}a_{1\\uparrow} $$\n",
    "In miniQM this is kind of operator is a list. We decompose how we construct it the first step is to write\n",
    "$$ tterm\\_up = [[-t,[a_{1\\uparrow}^{\\dagger},a_{0\\uparrow}]],[-t,[a_{0\\uparrow}^{\\dagger}a_{1\\uparrow}]]] $$\n",
    "Now we can replace the terms like $a_{1\\uparrow}^{\\dagger}$ by [0, 1, +1] as defined with the previous convention.\n",
    "So in code (choosing $t=0.5$) we obtain "
   ]
  },
  {
   "cell_type": "code",
   "execution_count": 27,
   "metadata": {},
   "outputs": [
    {
     "name": "stdout",
     "output_type": "stream",
     "text": [
      "[[-0.5, [[0, 1, 1], [0, 0, -1]]], [-0.5, [[0, 0, 1], [0, 1, -1]]]]\n"
     ]
    }
   ],
   "source": [
    "tval = 0.5\n",
    "tterm_up = []\n",
    "tterm_up += [[-tval,[[0, 1, +1],[0, 0, -1]]]]\n",
    "tterm_up += [[-tval,[[0, 0, +1],[0, 1, -1]]]]\n",
    "print(tterm_up)"
   ]
  },
  {
   "cell_type": "markdown",
   "metadata": {},
   "source": [
    "This is also equivalent to use the function tterm from miniQM"
   ]
  },
  {
   "cell_type": "code",
   "execution_count": 28,
   "metadata": {},
   "outputs": [
    {
     "name": "stdout",
     "output_type": "stream",
     "text": [
      "[[0.5, [[0, 1, 1], [0, 0, -1]]], [0.5, [[0, 0, 1], [0, 1, -1]]]]\n"
     ]
    }
   ],
   "source": [
    "ispace = 0\n",
    "ipos1 = 1\n",
    "ipos2 = 0\n",
    "tterm_up = mqm.tterm(tval, ispace, ipos1, ipos2)\n",
    "print(tterm_up)"
   ]
  },
  {
   "cell_type": "code",
   "execution_count": 29,
   "metadata": {},
   "outputs": [],
   "source": [
    "tterm_down = []\n",
    "tterm_down += [[-tval,[[1, 1, +1],[1, 0, -1]]]]\n",
    "tterm_down += [[-tval,[[1, 0, +1],[1, 1, -1]]]]\n",
    "tterm = tterm_up + tterm_down"
   ]
  },
  {
   "cell_type": "markdown",
   "metadata": {},
   "source": [
    "We used the concatenation operator +. Now we just have to transform this into a matrix in the basis of this Hilbert space (see hs.range() to know the basis). The method oplist_to_csr of miniQM provides a convenient way to do that.b The output is csr matrix from scipy which allows faster matrix multiplications, but here to display it we will convert it into a numpy array using the method toarray."
   ]
  },
  {
   "cell_type": "code",
   "execution_count": 30,
   "metadata": {},
   "outputs": [
    {
     "name": "stdout",
     "output_type": "stream",
     "text": [
      "[[ 0. +0.j -0.5+0.j  0.5+0.j  0. +0.j]\n",
      " [-0.5+0.j  0. +0.j  0. +0.j  0.5+0.j]\n",
      " [ 0.5+0.j  0. +0.j  0. +0.j -0.5+0.j]\n",
      " [ 0. +0.j  0.5+0.j -0.5+0.j  0. +0.j]]\n"
     ]
    }
   ],
   "source": [
    "tterm_csr = mqm.oplist_to_csr(tterm, hs)\n",
    "tterm_mat = tterm_csr.toarray()\n",
    "print(tterm_mat)"
   ]
  },
  {
   "cell_type": "markdown",
   "metadata": {},
   "source": [
    "One can check this is indeed the matrix of the hoping operator in the basis:"
   ]
  },
  {
   "cell_type": "code",
   "execution_count": 31,
   "metadata": {},
   "outputs": [
    {
     "name": "stdout",
     "output_type": "stream",
     "text": [
      "0 : [[1, 0], [1, 0]]\n",
      "1 : [[1, 0], [0, 1]]\n",
      "2 : [[0, 1], [1, 0]]\n",
      "3 : [[0, 1], [0, 1]]\n"
     ]
    }
   ],
   "source": [
    "for elem in hs.range():\n",
    "    print(elem.index, \":\", elem)"
   ]
  },
  {
   "cell_type": "markdown",
   "metadata": {},
   "source": [
    "Now for the U term of the Hubbard \n",
    "$$ \\hat{U}=U\\hat{n}_{0\\uparrow}\\hat{n}_{0\\downarrow}+U\\hat{n}_{1\\uparrow}\\hat{n}_{1\\downarrow} $$\n",
    "we get"
   ]
  },
  {
   "cell_type": "code",
   "execution_count": 32,
   "metadata": {},
   "outputs": [
    {
     "name": "stdout",
     "output_type": "stream",
     "text": [
      "[[10, [[0, 0, 1], [0, 0, -1], [1, 0, 1], [1, 0, -1]]], [10, [[0, 1, 1], [0, 0, -1], [1, 1, 1], [1, 1, -1]]]]\n"
     ]
    }
   ],
   "source": [
    "Uval = 10\n",
    "uterm = []\n",
    "uterm += [[Uval, [[0, 0, 1], [0, 0, -1], [1, 0, 1], [1, 0, -1]]]]\n",
    "uterm += [[Uval, [[0, 1, 1], [0, 0, -1], [1, 1, 1], [1, 1, -1]]]]\n",
    "print(uterm)"
   ]
  },
  {
   "cell_type": "code",
   "execution_count": 33,
   "metadata": {},
   "outputs": [
    {
     "name": "stdout",
     "output_type": "stream",
     "text": [
      "[[-10, [[0, 0, 1], [1, 0, 1], [0, 0, -1], [1, 0, -1]]], [-10, [[0, 1, 1], [1, 1, 1], [0, 1, -1], [1, 1, -1]]]]\n"
     ]
    }
   ],
   "source": [
    "ispace1 = 0\n",
    "ispace2 = 1\n",
    "ipos = 0\n",
    "uterm = mqm.uterm(Uval, ispace1, ispace2, ipos)\n",
    "ipos = 1\n",
    "uterm += mqm.uterm(Uval, ispace1, ispace2, ipos)\n",
    "print(uterm) #equivalent to precedent up to a commutation between operators"
   ]
  },
  {
   "cell_type": "markdown",
   "metadata": {},
   "source": [
    "The full hamiltonian for the symmetric Hubbard dimer is obtained by summing the two terms:"
   ]
  },
  {
   "cell_type": "code",
   "execution_count": 34,
   "metadata": {},
   "outputs": [
    {
     "name": "stdout",
     "output_type": "stream",
     "text": [
      "[[10.  -0.5  0.5  0. ]\n",
      " [-0.5  0.   0.   0.5]\n",
      " [ 0.5  0.   0.  -0.5]\n",
      " [ 0.   0.5 -0.5 10. ]]\n"
     ]
    }
   ],
   "source": [
    "h_list = tterm + uterm\n",
    "h_csr = mqm.oplist_to_csr(h_list, hs)\n",
    "h_csr = h_csr.real #not necessary, but as we work we real numbers here...\n",
    "h_mat = h_csr.toarray()\n",
    "print(h_mat)"
   ]
  },
  {
   "cell_type": "markdown",
   "metadata": {},
   "source": [
    "We can of course compute the eigenvectors (see scipy/numpy documentation):"
   ]
  },
  {
   "cell_type": "code",
   "execution_count": 40,
   "metadata": {},
   "outputs": [
    {
     "name": "stdout",
     "output_type": "stream",
     "text": [
      "SCIPY\n",
      "GS energy: -0.09901951359278353 || GS vec: [ 0.06967662  0.70366552 -0.70366552 -0.06967662]\n",
      "======================\n",
      "NUMPY\n",
      "GS energy: -0.09901951359278635 || GS vec: [ 0.06967662  0.70366552 -0.70366552 -0.06967662]\n"
     ]
    }
   ],
   "source": [
    "eigvals, eigvecs = scipy.sparse.linalg.eigsh(h_csr, k=3)\n",
    "# print the groundstate\n",
    "print(\"SCIPY\")\n",
    "print(\"GS energy:\",eigvals[0], \"|| GS vec:\", eigvecs[:,0])\n",
    "print(\"======================\")\n",
    "eigvals, eigvecs = np.linalg.eigh(h_mat)\n",
    "print(\"NUMPY\")\n",
    "print(\"GS energy:\",eigvals[0], \"|| GS vec:\", eigvecs[:,0])\n",
    "\n",
    "gsvec = eigvecs[:,0]"
   ]
  },
  {
   "cell_type": "markdown",
   "metadata": {},
   "source": []
  },
  {
   "cell_type": "code",
   "execution_count": null,
   "metadata": {},
   "outputs": [],
   "source": []
  },
  {
   "cell_type": "code",
   "execution_count": null,
   "metadata": {},
   "outputs": [],
   "source": []
  }
 ],
 "metadata": {
  "kernelspec": {
   "display_name": "physics",
   "language": "python",
   "name": "python3"
  },
  "language_info": {
   "codemirror_mode": {
    "name": "ipython",
    "version": 3
   },
   "file_extension": ".py",
   "mimetype": "text/x-python",
   "name": "python",
   "nbconvert_exporter": "python",
   "pygments_lexer": "ipython3",
   "version": "3.12.4"
  }
 },
 "nbformat": 4,
 "nbformat_minor": 2
}
