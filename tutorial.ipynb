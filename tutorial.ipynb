{
 "cells": [
  {
   "cell_type": "code",
   "execution_count": 1,
   "metadata": {},
   "outputs": [],
   "source": [
    "import core as mqm\n",
    "import numpy as np\n",
    "import matplotlib.pyplot as plt"
   ]
  },
  {
   "cell_type": "code",
   "execution_count": 2,
   "metadata": {},
   "outputs": [],
   "source": [
    "nsites = 2\n",
    "npart = 1\n",
    "nmodes = 1\n",
    "hsf = mqm.BasicFermions.firstdet(npart, nsites)\n",
    "hsb = mqm.BasicBosons.firstdet(nmodes, [2])\n",
    "hs = hsf*hsb*hsf"
   ]
  },
  {
   "cell_type": "code",
   "execution_count": 3,
   "metadata": {},
   "outputs": [],
   "source": [
    "det = hsf.copy()\n",
    "det.array = np.array([1,0,0,0,1])\n",
    "perm = hsb.copy()\n",
    "perm.array = np.array([1])\n"
   ]
  },
  {
   "cell_type": "code",
   "execution_count": 6,
   "metadata": {},
   "outputs": [
    {
     "ename": "TypeError",
     "evalue": "'BasicFermions' object does not support item assignment",
     "output_type": "error",
     "traceback": [
      "\u001b[0;31m---------------------------------------------------------------------------\u001b[0m",
      "\u001b[0;31mTypeError\u001b[0m                                 Traceback (most recent call last)",
      "Cell \u001b[0;32mIn[6], line 1\u001b[0m\n\u001b[0;32m----> 1\u001b[0m \u001b[43mhsf\u001b[49m\u001b[43m[\u001b[49m\u001b[38;5;241;43m0\u001b[39;49m\u001b[43m]\u001b[49m \u001b[38;5;241m=\u001b[39m hsb\n",
      "\u001b[0;31mTypeError\u001b[0m: 'BasicFermions' object does not support item assignment"
     ]
    }
   ],
   "source": []
  },
  {
   "cell_type": "code",
   "execution_count": 12,
   "metadata": {},
   "outputs": [
    {
     "name": "stdout",
     "output_type": "stream",
     "text": [
      "[[1, 0], [0]]\n",
      "[[1, 0], [1]]\n",
      "[[1, 0], [2]]\n",
      "[[0, 1], [0]]\n",
      "[[0, 1], [1]]\n",
      "[[0, 1], [2]]\n"
     ]
    }
   ],
   "source": [
    "for state in hs.range():\n",
    "    print(state)"
   ]
  },
  {
   "cell_type": "code",
   "execution_count": null,
   "metadata": {},
   "outputs": [],
   "source": [
    "    from scipy.sparse.linalg import eigs\n",
    "\n",
    "    sdet = BasicFermions.firstdet(1,2)\n",
    "    det = sdet*sdet\n",
    "\n",
    "    U = 4\n",
    "    ############# exact hamiltonian #############\n",
    "    ht = chain(U,-1/2,2,periodic=False)\n",
    "    ht= ht + vterm(1.5,0,0)\n",
    "    ht= ht + vterm(1.5,1,0)\n",
    "    ht= ht + vterm(-1.5,0,1)\n",
    "    ht= ht + vterm(-1.5,1,1)\n",
    "    # transforms into a csr format\n",
    "    ht_csr = hlist_to_csr(ht,det)\n",
    "    print(ht_csr.toarray())\n",
    "    val = eigs(ht_csr,k=1,which='SR',return_eigenvectors=False)\n",
    "    print(val)\n",
    "\n",
    "    ############# HF hamiltonian #############\n",
    "    orb, eigval = solve_HF(ht,2,[2,2],0.00000001)\n",
    "    print(orb)\n",
    "    print(eigval)\n",
    "    occup = np.zeros(np.size(orb,0))\n",
    "    occup[:2] = 1\n",
    "\n",
    "    # HF energy using density matrix\n",
    "    hfenergy = HFenergy(ht,det.nsiteslist,orb,occup)\n",
    "    print(hfenergy)\n",
    "\n",
    "    # HF energy computing from ket (works only for restricted HF)\n",
    "    ket = orb_to_ket(orb,occup,det)\n",
    "    print(ket)\n",
    "    print(np.dot(ket,ket))\n",
    "    print(np.dot(ket,apply_to_ket(ht,ket,det)))"
   ]
  },
  {
   "cell_type": "code",
   "execution_count": null,
   "metadata": {},
   "outputs": [],
   "source": []
  },
  {
   "cell_type": "code",
   "execution_count": 8,
   "metadata": {},
   "outputs": [],
   "source": [
    "sdet = mqm.BasicFermions.firstdet(1,2)\n",
    "det = sdet*sdet"
   ]
  },
  {
   "cell_type": "code",
   "execution_count": 12,
   "metadata": {},
   "outputs": [],
   "source": [
    "Uval = 10\n",
    "tval = 0.5\n",
    "deltav = -15"
   ]
  },
  {
   "cell_type": "code",
   "execution_count": 13,
   "metadata": {},
   "outputs": [
    {
     "name": "stdout",
     "output_type": "stream",
     "text": [
      "[[10. +0.j -0.5+0.j -0.5+0.j  0. +0.j]\n",
      " [-0.5+0.j  0. +0.j  0. +0.j -0.5+0.j]\n",
      " [-0.5+0.j  0. +0.j  0. +0.j -0.5+0.j]\n",
      " [ 0. +0.j -0.5+0.j -0.5+0.j 10. +0.j]]\n"
     ]
    }
   ],
   "source": [
    "ha = []\n",
    "ha = ha + mqm.uterm(Uval,0,1,0)\n",
    "ha = ha + mqm.uterm(Uval,0,1,1)\n",
    "ha = ha + mqm.tterm(-tval,0,0,1) + mqm.tterm(-tval,1,0,1)\n",
    "hamat = mqm.hlist_to_csr(ha,det).toarray()\n",
    "print(hamat)"
   ]
  },
  {
   "cell_type": "code",
   "execution_count": 14,
   "metadata": {},
   "outputs": [
    {
     "name": "stdout",
     "output_type": "stream",
     "text": [
      "[[-2.+0.j  0.+0.j  0.+0.j  0.+0.j]\n",
      " [ 0.+0.j  0.+0.j  0.+0.j  0.+0.j]\n",
      " [ 0.+0.j  0.+0.j  0.+0.j  0.+0.j]\n",
      " [ 0.+0.j  0.+0.j  0.+0.j  2.+0.j]]\n"
     ]
    }
   ],
   "source": [
    "dnop = [[1, [[0, 1, 1], [0, 1, -1]]]]\n",
    "dnop = dnop + [[1, [[1, 1, 1], [1, 1, -1]]]]\n",
    "dnop = dnop + [[-1, [[0, 0, 1], [0, 0, -1]]]]\n",
    "dnop = dnop + [[-1, [[1, 0, 1], [1, 0, -1]]]]\n",
    "dnmat = mqm.hlist_to_csr(dnop,det).toarray()\n",
    "print(dnmat)"
   ]
  },
  {
   "cell_type": "code",
   "execution_count": 15,
   "metadata": {},
   "outputs": [
    {
     "name": "stdout",
     "output_type": "stream",
     "text": [
      "[-0.09901951  0.         10.         10.09901951]\n",
      "[[ 6.96766179e-02-0.j  0.00000000e+00+0.j  7.07106781e-01+0.j  7.03665523e-01+0.j]\n",
      " [ 7.03665523e-01+0.j  7.07106781e-01+0.j -1.60437112e-16+0.j -6.96766179e-02+0.j]\n",
      " [ 7.03665523e-01+0.j -7.07106781e-01+0.j -1.60437112e-16+0.j -6.96766179e-02+0.j]\n",
      " [ 6.96766179e-02+0.j  0.00000000e+00+0.j -7.07106781e-01+0.j  7.03665523e-01+0.j]]\n",
      "-4.206097375217845e-18\n",
      "omega = 10.099019513592786, T = 0.6221579529302549\n"
     ]
    }
   ],
   "source": [
    "enerlist, eigvec = np.linalg.eigh(hamat)\n",
    "print(enerlist)\n",
    "print(eigvec)\n",
    "Psi0 = eigvec[:,0]\n",
    "dn0 = np.real(np.dot(Psi0.conjugate(),dnmat@Psi0))\n",
    "print(dn0)\n",
    "print(f'omega = {enerlist[2]-enerlist[0]}, T = {2*np.pi/(enerlist[2]-enerlist[0])}')"
   ]
  },
  {
   "cell_type": "code",
   "execution_count": 24,
   "metadata": {},
   "outputs": [],
   "source": [
    "def ee_pipulse(tt, width = 50, w0 = 5.176):\n",
    "    sigma = width\n",
    "    f0 = np.pi/(sigma*np.sqrt(w0))\n",
    "    f0 = 2*f0\n",
    "    tp = sigma + 0.1\n",
    "    return np.where(abs(tt-tp)<sigma,\n",
    "                    f0*(np.cos((np.pi/(2*sigma))*(tt-tp))**2)*np.cos(w0*(tt-tp)),\n",
    "                    0)\n",
    "\n",
    "\n",
    "w0 =  (enerlist[2]-enerlist[0])\n",
    "ee = lambda tt : ee_pipulse(tt, w0 = w0)\n",
    "\n",
    "dt = 0.05\n",
    "ttmax = 100\n",
    "tt_tarr = np.arange(0,ttmax,dt)"
   ]
  },
  {
   "cell_type": "code",
   "execution_count": 25,
   "metadata": {},
   "outputs": [],
   "source": [
    "import timeprop\n",
    "dn_tarr = []\n",
    "tt_tarr = []\n",
    "\n",
    "Psi = Psi0\n",
    "\n",
    "\n",
    "\n",
    "for tt in np.arange(0,ttmax,dt) :\n",
    "    ## observable\n",
    "    dnt = np.real(np.dot(Psi.conjugate(),dnmat@Psi))\n",
    "    dn_tarr.append(dnt)\n",
    "    ## time vector\n",
    "    tt_tarr.append(tt)\n",
    "    ## define hamiltonian\n",
    "    ht = ha + mqm.vterm(-ee(tt)/2,0,0) + mqm.vterm(-ee(tt)/2,1,0)\n",
    "    ht = ht + mqm.vterm(ee(tt)/2,0,1) + mqm.vterm(ee(tt)/2,1,1)\n",
    "    hamat = mqm.hlist_to_csr(ht,det).toarray()\n",
    "    ## one time step\n",
    "    Psi = timeprop.psi_timestep(Psi,hamat,dt)\n",
    "\n",
    "    \n",
    "    \n",
    "dn_tarr = np.array(dn_tarr)\n",
    "tt_tarr = np.array(tt_tarr)    "
   ]
  },
  {
   "cell_type": "code",
   "execution_count": 26,
   "metadata": {},
   "outputs": [
    {
     "name": "stderr",
     "output_type": "stream",
     "text": [
      "<>:2: SyntaxWarning: invalid escape sequence '\\D'\n",
      "<>:6: SyntaxWarning: invalid escape sequence '\\D'\n",
      "<>:2: SyntaxWarning: invalid escape sequence '\\D'\n",
      "<>:6: SyntaxWarning: invalid escape sequence '\\D'\n",
      "/tmp/ipykernel_375654/702704270.py:2: SyntaxWarning: invalid escape sequence '\\D'\n",
      "  line1, = ax.plot(tt_tarr, dn_tarr, label='$\\Delta n_{\\mathrm{exact}}$', linewidth=2.0, alpha=0.5)\n",
      "/tmp/ipykernel_375654/702704270.py:6: SyntaxWarning: invalid escape sequence '\\D'\n",
      "  plt.ylabel('$\\Delta n$')\n"
     ]
    },
    {
     "data": {
      "image/png": "[encoded data removed]",
      "text/plain": [
       "<Figure size 640x480 with 1 Axes>"
      ]
     },
     "metadata": {},
     "output_type": "display_data"
    }
   ],
   "source": [
    "fig, ax = plt.subplots()\n",
    "line1, = ax.plot(tt_tarr, dn_tarr, label='$\\Delta n_{\\mathrm{exact}}$', linewidth=2.0, alpha=0.5)\n",
    "# line1, = ax.plot(tt_tarr, np.zeros_like(tt_tarr), label='$\\Delta n_{\\mathrm{exact}}$', linewidth=2.0, alpha=0.5)\n",
    "\n",
    "\n",
    "plt.ylabel('$\\Delta n$')\n",
    "plt.xlabel('$t$')\n",
    "ax.legend()\n",
    "\n",
    "plt.show()"
   ]
  },
  {
   "cell_type": "code",
   "execution_count": null,
   "metadata": {},
   "outputs": [],
   "source": []
  }
 ],
 "metadata": {
  "kernelspec": {
   "display_name": "physics",
   "language": "python",
   "name": "python3"
  },
  "language_info": {
   "codemirror_mode": {
    "name": "ipython",
    "version": 3
   },
   "file_extension": ".py",
   "mimetype": "text/x-python",
   "name": "python",
   "nbconvert_exporter": "python",
   "pygments_lexer": "ipython3",
   "version": "3.12.4"
  }
 },
 "nbformat": 4,
 "nbformat_minor": 2
}
